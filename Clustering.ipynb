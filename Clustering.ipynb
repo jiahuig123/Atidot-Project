{
 "cells": [
  {
   "cell_type": "code",
   "execution_count": 1,
   "metadata": {},
   "outputs": [],
   "source": [
    "import numpy as np\n",
    "import pandas as pd"
   ]
  },
  {
   "cell_type": "code",
   "execution_count": 2,
   "metadata": {},
   "outputs": [],
   "source": [
    "df = pd.read_csv('Atidot data/WashU_data.csv')"
   ]
  },
  {
   "cell_type": "code",
   "execution_count": 3,
   "metadata": {},
   "outputs": [],
   "source": [
    "for n in df.columns:  \n",
    "    df[n] = df[n].astype(str).str.replace('+','', regex=True)\n",
    "    df[n] = df[n].astype(str).str.replace('-','', regex=True)"
   ]
  },
  {
   "cell_type": "code",
   "execution_count": 111,
   "metadata": {},
   "outputs": [
    {
     "name": "stderr",
     "output_type": "stream",
     "text": [
      "C:\\Users\\15321\\anaconda3\\lib\\site-packages\\ipykernel_launcher.py:4: SettingWithCopyWarning: \n",
      "A value is trying to be set on a copy of a slice from a DataFrame.\n",
      "Try using .loc[row_indexer,col_indexer] = value instead\n",
      "\n",
      "See the caveats in the documentation: https://pandas.pydata.org/pandas-docs/stable/user_guide/indexing.html#returning-a-view-versus-a-copy\n",
      "  after removing the cwd from sys.path.\n"
     ]
    }
   ],
   "source": [
    "df_1 = df.iloc[:,3:]\n",
    "df_1.columns = df.columns[3:]\n",
    "for n in df_1.columns:  \n",
    "    df_1[n] = pd.to_numeric(df_1[n], errors='coerce')"
   ]
  },
  {
   "cell_type": "code",
   "execution_count": 112,
   "metadata": {},
   "outputs": [
    {
     "name": "stderr",
     "output_type": "stream",
     "text": [
      "C:\\Users\\15321\\anaconda3\\lib\\site-packages\\ipykernel_launcher.py:1: SettingWithCopyWarning: \n",
      "A value is trying to be set on a copy of a slice from a DataFrame\n",
      "\n",
      "See the caveats in the documentation: https://pandas.pydata.org/pandas-docs/stable/user_guide/indexing.html#returning-a-view-versus-a-copy\n",
      "  \"\"\"Entry point for launching an IPython kernel.\n",
      "C:\\Users\\15321\\anaconda3\\lib\\site-packages\\ipykernel_launcher.py:2: SettingWithCopyWarning: \n",
      "A value is trying to be set on a copy of a slice from a DataFrame\n",
      "\n",
      "See the caveats in the documentation: https://pandas.pydata.org/pandas-docs/stable/user_guide/indexing.html#returning-a-view-versus-a-copy\n",
      "  \n"
     ]
    }
   ],
   "source": [
    "df_1.dropna(thresh=df_1.shape[1]* 0.80,inplace=True)\n",
    "df_1.dropna(thresh=df_1.shape[0]* 0.80,axis=1,inplace=True)"
   ]
  },
  {
   "cell_type": "code",
   "execution_count": 115,
   "metadata": {},
   "outputs": [],
   "source": [
    "col = df_1.columns.to_list()"
   ]
  },
  {
   "cell_type": "code",
   "execution_count": 116,
   "metadata": {},
   "outputs": [],
   "source": [
    "from sklearn.impute import SimpleImputer\n",
    "\n",
    "# Fill NA values with 0\n",
    "imputer = SimpleImputer(missing_values=np.nan, strategy='constant', fill_value=0)\n",
    "df_1 = imputer.fit_transform(df_1)\n",
    "df_1 = pd.DataFrame(df_1)\n",
    "df_1.columns = col"
   ]
  },
  {
   "cell_type": "code",
   "execution_count": 117,
   "metadata": {},
   "outputs": [],
   "source": [
    "df_1.drop(df_1[[c for c in df_1.columns if 'Percent' in c]].loc[:,(df_1>100).any()].columns, axis=1, inplace=True)"
   ]
  },
  {
   "cell_type": "code",
   "execution_count": 118,
   "metadata": {},
   "outputs": [
    {
     "data": {
      "text/html": [
       "<div>\n",
       "<style scoped>\n",
       "    .dataframe tbody tr th:only-of-type {\n",
       "        vertical-align: middle;\n",
       "    }\n",
       "\n",
       "    .dataframe tbody tr th {\n",
       "        vertical-align: top;\n",
       "    }\n",
       "\n",
       "    .dataframe thead th {\n",
       "        text-align: right;\n",
       "    }\n",
       "</style>\n",
       "<table border=\"1\" class=\"dataframe\">\n",
       "  <thead>\n",
       "    <tr style=\"text-align: right;\">\n",
       "      <th></th>\n",
       "      <th>DP03_0002PE_Percent!!EMPLOYMENT STATUS!!Population 16 years and over!!In labor force</th>\n",
       "      <th>DP03_0003PE_Percent!!EMPLOYMENT STATUS!!Population 16 years and over!!In labor force!!Civilian labor force</th>\n",
       "      <th>DP03_0004PE_Percent!!EMPLOYMENT STATUS!!Population 16 years and over!!In labor force!!Civilian labor force!!Employed</th>\n",
       "      <th>DP03_0005PE_Percent!!EMPLOYMENT STATUS!!Population 16 years and over!!In labor force!!Civilian labor force!!Unemployed</th>\n",
       "      <th>DP03_0006PE_Percent!!EMPLOYMENT STATUS!!Population 16 years and over!!In labor force!!Armed Forces</th>\n",
       "      <th>DP03_0007PE_Percent!!EMPLOYMENT STATUS!!Population 16 years and over!!Not in labor force</th>\n",
       "      <th>DP03_0009PE_Percent!!EMPLOYMENT STATUS!!Civilian labor force!!Unemployment Rate</th>\n",
       "      <th>DP03_0011PE_Percent!!EMPLOYMENT STATUS!!Females 16 years and over!!In labor force</th>\n",
       "      <th>DP03_0012PE_Percent!!EMPLOYMENT STATUS!!Females 16 years and over!!In labor force!!Civilian labor force</th>\n",
       "      <th>DP03_0013PE_Percent!!EMPLOYMENT STATUS!!Females 16 years and over!!In labor force!!Civilian labor force!!Employed</th>\n",
       "      <th>...</th>\n",
       "      <th>DP03_0128PE_Percent!!PERCENTAGE OF FAMILIES AND PEOPLE WHOSE INCOME IN THE PAST 12 MONTHS IS BELOW THE POVERTY LEVEL!!All people</th>\n",
       "      <th>DP03_0129PE_Percent!!PERCENTAGE OF FAMILIES AND PEOPLE WHOSE INCOME IN THE PAST 12 MONTHS IS BELOW THE POVERTY LEVEL!!All people!!Under 18 years</th>\n",
       "      <th>DP03_0130PE_Percent!!PERCENTAGE OF FAMILIES AND PEOPLE WHOSE INCOME IN THE PAST 12 MONTHS IS BELOW THE POVERTY LEVEL!!All people!!Under 18 years!!Related children of the householder under 18 years</th>\n",
       "      <th>DP03_0131PE_Percent!!PERCENTAGE OF FAMILIES AND PEOPLE WHOSE INCOME IN THE PAST 12 MONTHS IS BELOW THE POVERTY LEVEL!!All people!!Under 18 years!!Related children of the householder under 18 years!!Related children of the householder under 5 years</th>\n",
       "      <th>DP03_0132PE_Percent!!PERCENTAGE OF FAMILIES AND PEOPLE WHOSE INCOME IN THE PAST 12 MONTHS IS BELOW THE POVERTY LEVEL!!All people!!Under 18 years!!Related children of the householder under 18 years!!Related children of the householder 5 to 17 years</th>\n",
       "      <th>DP03_0133PE_Percent!!PERCENTAGE OF FAMILIES AND PEOPLE WHOSE INCOME IN THE PAST 12 MONTHS IS BELOW THE POVERTY LEVEL!!All people!!18 years and over</th>\n",
       "      <th>DP03_0134PE_Percent!!PERCENTAGE OF FAMILIES AND PEOPLE WHOSE INCOME IN THE PAST 12 MONTHS IS BELOW THE POVERTY LEVEL!!All people!!18 years and over!!18 to 64 years</th>\n",
       "      <th>DP03_0135PE_Percent!!PERCENTAGE OF FAMILIES AND PEOPLE WHOSE INCOME IN THE PAST 12 MONTHS IS BELOW THE POVERTY LEVEL!!All people!!18 years and over!!65 years and over</th>\n",
       "      <th>DP03_0136PE_Percent!!PERCENTAGE OF FAMILIES AND PEOPLE WHOSE INCOME IN THE PAST 12 MONTHS IS BELOW THE POVERTY LEVEL!!All people!!People in families</th>\n",
       "      <th>DP03_0137PE_Percent!!PERCENTAGE OF FAMILIES AND PEOPLE WHOSE INCOME IN THE PAST 12 MONTHS IS BELOW THE POVERTY LEVEL!!All people!!Unrelated individuals 15 years and over</th>\n",
       "    </tr>\n",
       "  </thead>\n",
       "  <tbody>\n",
       "    <tr>\n",
       "      <th>0</th>\n",
       "      <td>40.2</td>\n",
       "      <td>40.2</td>\n",
       "      <td>26.1</td>\n",
       "      <td>14.1</td>\n",
       "      <td>0.0</td>\n",
       "      <td>59.8</td>\n",
       "      <td>35.0</td>\n",
       "      <td>34.0</td>\n",
       "      <td>34.0</td>\n",
       "      <td>22.9</td>\n",
       "      <td>...</td>\n",
       "      <td>61.9</td>\n",
       "      <td>73.4</td>\n",
       "      <td>73.4</td>\n",
       "      <td>74.4</td>\n",
       "      <td>73.0</td>\n",
       "      <td>58.8</td>\n",
       "      <td>58.9</td>\n",
       "      <td>58.5</td>\n",
       "      <td>61.0</td>\n",
       "      <td>67.6</td>\n",
       "    </tr>\n",
       "    <tr>\n",
       "      <th>1</th>\n",
       "      <td>39.7</td>\n",
       "      <td>39.7</td>\n",
       "      <td>35.3</td>\n",
       "      <td>4.5</td>\n",
       "      <td>0.0</td>\n",
       "      <td>60.3</td>\n",
       "      <td>11.3</td>\n",
       "      <td>32.6</td>\n",
       "      <td>32.6</td>\n",
       "      <td>28.8</td>\n",
       "      <td>...</td>\n",
       "      <td>49.5</td>\n",
       "      <td>56.7</td>\n",
       "      <td>56.7</td>\n",
       "      <td>65.2</td>\n",
       "      <td>54.4</td>\n",
       "      <td>47.9</td>\n",
       "      <td>49.3</td>\n",
       "      <td>43.2</td>\n",
       "      <td>47.1</td>\n",
       "      <td>65.7</td>\n",
       "    </tr>\n",
       "    <tr>\n",
       "      <th>2</th>\n",
       "      <td>39.1</td>\n",
       "      <td>38.8</td>\n",
       "      <td>30.7</td>\n",
       "      <td>8.2</td>\n",
       "      <td>0.3</td>\n",
       "      <td>60.9</td>\n",
       "      <td>21.0</td>\n",
       "      <td>34.7</td>\n",
       "      <td>34.6</td>\n",
       "      <td>27.1</td>\n",
       "      <td>...</td>\n",
       "      <td>51.6</td>\n",
       "      <td>63.0</td>\n",
       "      <td>62.0</td>\n",
       "      <td>74.1</td>\n",
       "      <td>58.4</td>\n",
       "      <td>48.7</td>\n",
       "      <td>50.3</td>\n",
       "      <td>44.4</td>\n",
       "      <td>48.7</td>\n",
       "      <td>64.7</td>\n",
       "    </tr>\n",
       "    <tr>\n",
       "      <th>3</th>\n",
       "      <td>26.0</td>\n",
       "      <td>26.0</td>\n",
       "      <td>22.9</td>\n",
       "      <td>3.1</td>\n",
       "      <td>0.0</td>\n",
       "      <td>74.0</td>\n",
       "      <td>12.0</td>\n",
       "      <td>17.9</td>\n",
       "      <td>17.9</td>\n",
       "      <td>14.8</td>\n",
       "      <td>...</td>\n",
       "      <td>65.5</td>\n",
       "      <td>80.2</td>\n",
       "      <td>80.1</td>\n",
       "      <td>84.4</td>\n",
       "      <td>78.9</td>\n",
       "      <td>62.1</td>\n",
       "      <td>68.1</td>\n",
       "      <td>43.6</td>\n",
       "      <td>64.4</td>\n",
       "      <td>72.1</td>\n",
       "    </tr>\n",
       "    <tr>\n",
       "      <th>4</th>\n",
       "      <td>41.3</td>\n",
       "      <td>41.3</td>\n",
       "      <td>36.7</td>\n",
       "      <td>4.6</td>\n",
       "      <td>0.0</td>\n",
       "      <td>58.7</td>\n",
       "      <td>11.1</td>\n",
       "      <td>34.3</td>\n",
       "      <td>34.3</td>\n",
       "      <td>30.1</td>\n",
       "      <td>...</td>\n",
       "      <td>46.0</td>\n",
       "      <td>55.3</td>\n",
       "      <td>55.3</td>\n",
       "      <td>64.2</td>\n",
       "      <td>53.2</td>\n",
       "      <td>43.9</td>\n",
       "      <td>43.9</td>\n",
       "      <td>43.8</td>\n",
       "      <td>44.0</td>\n",
       "      <td>59.4</td>\n",
       "    </tr>\n",
       "    <tr>\n",
       "      <th>...</th>\n",
       "      <td>...</td>\n",
       "      <td>...</td>\n",
       "      <td>...</td>\n",
       "      <td>...</td>\n",
       "      <td>...</td>\n",
       "      <td>...</td>\n",
       "      <td>...</td>\n",
       "      <td>...</td>\n",
       "      <td>...</td>\n",
       "      <td>...</td>\n",
       "      <td>...</td>\n",
       "      <td>...</td>\n",
       "      <td>...</td>\n",
       "      <td>...</td>\n",
       "      <td>...</td>\n",
       "      <td>...</td>\n",
       "      <td>...</td>\n",
       "      <td>...</td>\n",
       "      <td>...</td>\n",
       "      <td>...</td>\n",
       "      <td>...</td>\n",
       "    </tr>\n",
       "    <tr>\n",
       "      <th>31668</th>\n",
       "      <td>69.1</td>\n",
       "      <td>69.1</td>\n",
       "      <td>64.9</td>\n",
       "      <td>4.2</td>\n",
       "      <td>0.0</td>\n",
       "      <td>30.9</td>\n",
       "      <td>6.1</td>\n",
       "      <td>67.0</td>\n",
       "      <td>67.0</td>\n",
       "      <td>63.9</td>\n",
       "      <td>...</td>\n",
       "      <td>19.4</td>\n",
       "      <td>25.1</td>\n",
       "      <td>24.7</td>\n",
       "      <td>34.2</td>\n",
       "      <td>20.8</td>\n",
       "      <td>17.9</td>\n",
       "      <td>20.7</td>\n",
       "      <td>6.1</td>\n",
       "      <td>17.6</td>\n",
       "      <td>24.2</td>\n",
       "    </tr>\n",
       "    <tr>\n",
       "      <th>31669</th>\n",
       "      <td>49.4</td>\n",
       "      <td>49.4</td>\n",
       "      <td>43.5</td>\n",
       "      <td>5.9</td>\n",
       "      <td>0.0</td>\n",
       "      <td>50.6</td>\n",
       "      <td>12.0</td>\n",
       "      <td>44.8</td>\n",
       "      <td>44.8</td>\n",
       "      <td>38.8</td>\n",
       "      <td>...</td>\n",
       "      <td>36.5</td>\n",
       "      <td>58.6</td>\n",
       "      <td>58.6</td>\n",
       "      <td>59.3</td>\n",
       "      <td>58.3</td>\n",
       "      <td>27.6</td>\n",
       "      <td>34.0</td>\n",
       "      <td>5.5</td>\n",
       "      <td>38.2</td>\n",
       "      <td>28.8</td>\n",
       "    </tr>\n",
       "    <tr>\n",
       "      <th>31670</th>\n",
       "      <td>67.4</td>\n",
       "      <td>67.4</td>\n",
       "      <td>56.4</td>\n",
       "      <td>11.0</td>\n",
       "      <td>0.0</td>\n",
       "      <td>32.6</td>\n",
       "      <td>16.3</td>\n",
       "      <td>68.6</td>\n",
       "      <td>68.6</td>\n",
       "      <td>60.6</td>\n",
       "      <td>...</td>\n",
       "      <td>17.4</td>\n",
       "      <td>30.2</td>\n",
       "      <td>29.9</td>\n",
       "      <td>53.0</td>\n",
       "      <td>18.5</td>\n",
       "      <td>13.8</td>\n",
       "      <td>14.6</td>\n",
       "      <td>10.2</td>\n",
       "      <td>16.7</td>\n",
       "      <td>19.6</td>\n",
       "    </tr>\n",
       "    <tr>\n",
       "      <th>31671</th>\n",
       "      <td>55.7</td>\n",
       "      <td>55.7</td>\n",
       "      <td>45.8</td>\n",
       "      <td>9.9</td>\n",
       "      <td>0.0</td>\n",
       "      <td>44.3</td>\n",
       "      <td>17.7</td>\n",
       "      <td>56.4</td>\n",
       "      <td>56.4</td>\n",
       "      <td>50.3</td>\n",
       "      <td>...</td>\n",
       "      <td>15.1</td>\n",
       "      <td>21.2</td>\n",
       "      <td>21.2</td>\n",
       "      <td>19.3</td>\n",
       "      <td>21.7</td>\n",
       "      <td>12.8</td>\n",
       "      <td>13.3</td>\n",
       "      <td>10.3</td>\n",
       "      <td>13.7</td>\n",
       "      <td>26.4</td>\n",
       "    </tr>\n",
       "    <tr>\n",
       "      <th>31672</th>\n",
       "      <td>55.3</td>\n",
       "      <td>55.3</td>\n",
       "      <td>51.6</td>\n",
       "      <td>3.7</td>\n",
       "      <td>0.0</td>\n",
       "      <td>44.7</td>\n",
       "      <td>6.6</td>\n",
       "      <td>49.1</td>\n",
       "      <td>49.1</td>\n",
       "      <td>45.9</td>\n",
       "      <td>...</td>\n",
       "      <td>7.8</td>\n",
       "      <td>6.7</td>\n",
       "      <td>6.5</td>\n",
       "      <td>14.2</td>\n",
       "      <td>3.8</td>\n",
       "      <td>8.1</td>\n",
       "      <td>10.8</td>\n",
       "      <td>1.1</td>\n",
       "      <td>3.4</td>\n",
       "      <td>23.0</td>\n",
       "    </tr>\n",
       "  </tbody>\n",
       "</table>\n",
       "<p>31673 rows × 115 columns</p>\n",
       "</div>"
      ],
      "text/plain": [
       "       DP03_0002PE_Percent!!EMPLOYMENT STATUS!!Population 16 years and over!!In labor force  \\\n",
       "0                                                   40.2                                      \n",
       "1                                                   39.7                                      \n",
       "2                                                   39.1                                      \n",
       "3                                                   26.0                                      \n",
       "4                                                   41.3                                      \n",
       "...                                                  ...                                      \n",
       "31668                                               69.1                                      \n",
       "31669                                               49.4                                      \n",
       "31670                                               67.4                                      \n",
       "31671                                               55.7                                      \n",
       "31672                                               55.3                                      \n",
       "\n",
       "       DP03_0003PE_Percent!!EMPLOYMENT STATUS!!Population 16 years and over!!In labor force!!Civilian labor force  \\\n",
       "0                                                   40.2                                                            \n",
       "1                                                   39.7                                                            \n",
       "2                                                   38.8                                                            \n",
       "3                                                   26.0                                                            \n",
       "4                                                   41.3                                                            \n",
       "...                                                  ...                                                            \n",
       "31668                                               69.1                                                            \n",
       "31669                                               49.4                                                            \n",
       "31670                                               67.4                                                            \n",
       "31671                                               55.7                                                            \n",
       "31672                                               55.3                                                            \n",
       "\n",
       "       DP03_0004PE_Percent!!EMPLOYMENT STATUS!!Population 16 years and over!!In labor force!!Civilian labor force!!Employed  \\\n",
       "0                                                   26.1                                                                      \n",
       "1                                                   35.3                                                                      \n",
       "2                                                   30.7                                                                      \n",
       "3                                                   22.9                                                                      \n",
       "4                                                   36.7                                                                      \n",
       "...                                                  ...                                                                      \n",
       "31668                                               64.9                                                                      \n",
       "31669                                               43.5                                                                      \n",
       "31670                                               56.4                                                                      \n",
       "31671                                               45.8                                                                      \n",
       "31672                                               51.6                                                                      \n",
       "\n",
       "       DP03_0005PE_Percent!!EMPLOYMENT STATUS!!Population 16 years and over!!In labor force!!Civilian labor force!!Unemployed  \\\n",
       "0                                                   14.1                                                                        \n",
       "1                                                    4.5                                                                        \n",
       "2                                                    8.2                                                                        \n",
       "3                                                    3.1                                                                        \n",
       "4                                                    4.6                                                                        \n",
       "...                                                  ...                                                                        \n",
       "31668                                                4.2                                                                        \n",
       "31669                                                5.9                                                                        \n",
       "31670                                               11.0                                                                        \n",
       "31671                                                9.9                                                                        \n",
       "31672                                                3.7                                                                        \n",
       "\n",
       "       DP03_0006PE_Percent!!EMPLOYMENT STATUS!!Population 16 years and over!!In labor force!!Armed Forces  \\\n",
       "0                                                    0.0                                                    \n",
       "1                                                    0.0                                                    \n",
       "2                                                    0.3                                                    \n",
       "3                                                    0.0                                                    \n",
       "4                                                    0.0                                                    \n",
       "...                                                  ...                                                    \n",
       "31668                                                0.0                                                    \n",
       "31669                                                0.0                                                    \n",
       "31670                                                0.0                                                    \n",
       "31671                                                0.0                                                    \n",
       "31672                                                0.0                                                    \n",
       "\n",
       "       DP03_0007PE_Percent!!EMPLOYMENT STATUS!!Population 16 years and over!!Not in labor force  \\\n",
       "0                                                   59.8                                          \n",
       "1                                                   60.3                                          \n",
       "2                                                   60.9                                          \n",
       "3                                                   74.0                                          \n",
       "4                                                   58.7                                          \n",
       "...                                                  ...                                          \n",
       "31668                                               30.9                                          \n",
       "31669                                               50.6                                          \n",
       "31670                                               32.6                                          \n",
       "31671                                               44.3                                          \n",
       "31672                                               44.7                                          \n",
       "\n",
       "       DP03_0009PE_Percent!!EMPLOYMENT STATUS!!Civilian labor force!!Unemployment Rate  \\\n",
       "0                                                   35.0                                 \n",
       "1                                                   11.3                                 \n",
       "2                                                   21.0                                 \n",
       "3                                                   12.0                                 \n",
       "4                                                   11.1                                 \n",
       "...                                                  ...                                 \n",
       "31668                                                6.1                                 \n",
       "31669                                               12.0                                 \n",
       "31670                                               16.3                                 \n",
       "31671                                               17.7                                 \n",
       "31672                                                6.6                                 \n",
       "\n",
       "       DP03_0011PE_Percent!!EMPLOYMENT STATUS!!Females 16 years and over!!In labor force  \\\n",
       "0                                                   34.0                                   \n",
       "1                                                   32.6                                   \n",
       "2                                                   34.7                                   \n",
       "3                                                   17.9                                   \n",
       "4                                                   34.3                                   \n",
       "...                                                  ...                                   \n",
       "31668                                               67.0                                   \n",
       "31669                                               44.8                                   \n",
       "31670                                               68.6                                   \n",
       "31671                                               56.4                                   \n",
       "31672                                               49.1                                   \n",
       "\n",
       "       DP03_0012PE_Percent!!EMPLOYMENT STATUS!!Females 16 years and over!!In labor force!!Civilian labor force  \\\n",
       "0                                                   34.0                                                         \n",
       "1                                                   32.6                                                         \n",
       "2                                                   34.6                                                         \n",
       "3                                                   17.9                                                         \n",
       "4                                                   34.3                                                         \n",
       "...                                                  ...                                                         \n",
       "31668                                               67.0                                                         \n",
       "31669                                               44.8                                                         \n",
       "31670                                               68.6                                                         \n",
       "31671                                               56.4                                                         \n",
       "31672                                               49.1                                                         \n",
       "\n",
       "       DP03_0013PE_Percent!!EMPLOYMENT STATUS!!Females 16 years and over!!In labor force!!Civilian labor force!!Employed  \\\n",
       "0                                                   22.9                                                                   \n",
       "1                                                   28.8                                                                   \n",
       "2                                                   27.1                                                                   \n",
       "3                                                   14.8                                                                   \n",
       "4                                                   30.1                                                                   \n",
       "...                                                  ...                                                                   \n",
       "31668                                               63.9                                                                   \n",
       "31669                                               38.8                                                                   \n",
       "31670                                               60.6                                                                   \n",
       "31671                                               50.3                                                                   \n",
       "31672                                               45.9                                                                   \n",
       "\n",
       "       ...  \\\n",
       "0      ...   \n",
       "1      ...   \n",
       "2      ...   \n",
       "3      ...   \n",
       "4      ...   \n",
       "...    ...   \n",
       "31668  ...   \n",
       "31669  ...   \n",
       "31670  ...   \n",
       "31671  ...   \n",
       "31672  ...   \n",
       "\n",
       "       DP03_0128PE_Percent!!PERCENTAGE OF FAMILIES AND PEOPLE WHOSE INCOME IN THE PAST 12 MONTHS IS BELOW THE POVERTY LEVEL!!All people  \\\n",
       "0                                                   61.9                                                                                  \n",
       "1                                                   49.5                                                                                  \n",
       "2                                                   51.6                                                                                  \n",
       "3                                                   65.5                                                                                  \n",
       "4                                                   46.0                                                                                  \n",
       "...                                                  ...                                                                                  \n",
       "31668                                               19.4                                                                                  \n",
       "31669                                               36.5                                                                                  \n",
       "31670                                               17.4                                                                                  \n",
       "31671                                               15.1                                                                                  \n",
       "31672                                                7.8                                                                                  \n",
       "\n",
       "       DP03_0129PE_Percent!!PERCENTAGE OF FAMILIES AND PEOPLE WHOSE INCOME IN THE PAST 12 MONTHS IS BELOW THE POVERTY LEVEL!!All people!!Under 18 years  \\\n",
       "0                                                   73.4                                                                                                  \n",
       "1                                                   56.7                                                                                                  \n",
       "2                                                   63.0                                                                                                  \n",
       "3                                                   80.2                                                                                                  \n",
       "4                                                   55.3                                                                                                  \n",
       "...                                                  ...                                                                                                  \n",
       "31668                                               25.1                                                                                                  \n",
       "31669                                               58.6                                                                                                  \n",
       "31670                                               30.2                                                                                                  \n",
       "31671                                               21.2                                                                                                  \n",
       "31672                                                6.7                                                                                                  \n",
       "\n",
       "       DP03_0130PE_Percent!!PERCENTAGE OF FAMILIES AND PEOPLE WHOSE INCOME IN THE PAST 12 MONTHS IS BELOW THE POVERTY LEVEL!!All people!!Under 18 years!!Related children of the householder under 18 years  \\\n",
       "0                                                   73.4                                                                                                                                                      \n",
       "1                                                   56.7                                                                                                                                                      \n",
       "2                                                   62.0                                                                                                                                                      \n",
       "3                                                   80.1                                                                                                                                                      \n",
       "4                                                   55.3                                                                                                                                                      \n",
       "...                                                  ...                                                                                                                                                      \n",
       "31668                                               24.7                                                                                                                                                      \n",
       "31669                                               58.6                                                                                                                                                      \n",
       "31670                                               29.9                                                                                                                                                      \n",
       "31671                                               21.2                                                                                                                                                      \n",
       "31672                                                6.5                                                                                                                                                      \n",
       "\n",
       "       DP03_0131PE_Percent!!PERCENTAGE OF FAMILIES AND PEOPLE WHOSE INCOME IN THE PAST 12 MONTHS IS BELOW THE POVERTY LEVEL!!All people!!Under 18 years!!Related children of the householder under 18 years!!Related children of the householder under 5 years  \\\n",
       "0                                                   74.4                                                                                                                                                                                                         \n",
       "1                                                   65.2                                                                                                                                                                                                         \n",
       "2                                                   74.1                                                                                                                                                                                                         \n",
       "3                                                   84.4                                                                                                                                                                                                         \n",
       "4                                                   64.2                                                                                                                                                                                                         \n",
       "...                                                  ...                                                                                                                                                                                                         \n",
       "31668                                               34.2                                                                                                                                                                                                         \n",
       "31669                                               59.3                                                                                                                                                                                                         \n",
       "31670                                               53.0                                                                                                                                                                                                         \n",
       "31671                                               19.3                                                                                                                                                                                                         \n",
       "31672                                               14.2                                                                                                                                                                                                         \n",
       "\n",
       "       DP03_0132PE_Percent!!PERCENTAGE OF FAMILIES AND PEOPLE WHOSE INCOME IN THE PAST 12 MONTHS IS BELOW THE POVERTY LEVEL!!All people!!Under 18 years!!Related children of the householder under 18 years!!Related children of the householder 5 to 17 years  \\\n",
       "0                                                   73.0                                                                                                                                                                                                         \n",
       "1                                                   54.4                                                                                                                                                                                                         \n",
       "2                                                   58.4                                                                                                                                                                                                         \n",
       "3                                                   78.9                                                                                                                                                                                                         \n",
       "4                                                   53.2                                                                                                                                                                                                         \n",
       "...                                                  ...                                                                                                                                                                                                         \n",
       "31668                                               20.8                                                                                                                                                                                                         \n",
       "31669                                               58.3                                                                                                                                                                                                         \n",
       "31670                                               18.5                                                                                                                                                                                                         \n",
       "31671                                               21.7                                                                                                                                                                                                         \n",
       "31672                                                3.8                                                                                                                                                                                                         \n",
       "\n",
       "       DP03_0133PE_Percent!!PERCENTAGE OF FAMILIES AND PEOPLE WHOSE INCOME IN THE PAST 12 MONTHS IS BELOW THE POVERTY LEVEL!!All people!!18 years and over  \\\n",
       "0                                                   58.8                                                                                                     \n",
       "1                                                   47.9                                                                                                     \n",
       "2                                                   48.7                                                                                                     \n",
       "3                                                   62.1                                                                                                     \n",
       "4                                                   43.9                                                                                                     \n",
       "...                                                  ...                                                                                                     \n",
       "31668                                               17.9                                                                                                     \n",
       "31669                                               27.6                                                                                                     \n",
       "31670                                               13.8                                                                                                     \n",
       "31671                                               12.8                                                                                                     \n",
       "31672                                                8.1                                                                                                     \n",
       "\n",
       "       DP03_0134PE_Percent!!PERCENTAGE OF FAMILIES AND PEOPLE WHOSE INCOME IN THE PAST 12 MONTHS IS BELOW THE POVERTY LEVEL!!All people!!18 years and over!!18 to 64 years  \\\n",
       "0                                                   58.9                                                                                                                     \n",
       "1                                                   49.3                                                                                                                     \n",
       "2                                                   50.3                                                                                                                     \n",
       "3                                                   68.1                                                                                                                     \n",
       "4                                                   43.9                                                                                                                     \n",
       "...                                                  ...                                                                                                                     \n",
       "31668                                               20.7                                                                                                                     \n",
       "31669                                               34.0                                                                                                                     \n",
       "31670                                               14.6                                                                                                                     \n",
       "31671                                               13.3                                                                                                                     \n",
       "31672                                               10.8                                                                                                                     \n",
       "\n",
       "       DP03_0135PE_Percent!!PERCENTAGE OF FAMILIES AND PEOPLE WHOSE INCOME IN THE PAST 12 MONTHS IS BELOW THE POVERTY LEVEL!!All people!!18 years and over!!65 years and over  \\\n",
       "0                                                   58.5                                                                                                                        \n",
       "1                                                   43.2                                                                                                                        \n",
       "2                                                   44.4                                                                                                                        \n",
       "3                                                   43.6                                                                                                                        \n",
       "4                                                   43.8                                                                                                                        \n",
       "...                                                  ...                                                                                                                        \n",
       "31668                                                6.1                                                                                                                        \n",
       "31669                                                5.5                                                                                                                        \n",
       "31670                                               10.2                                                                                                                        \n",
       "31671                                               10.3                                                                                                                        \n",
       "31672                                                1.1                                                                                                                        \n",
       "\n",
       "       DP03_0136PE_Percent!!PERCENTAGE OF FAMILIES AND PEOPLE WHOSE INCOME IN THE PAST 12 MONTHS IS BELOW THE POVERTY LEVEL!!All people!!People in families  \\\n",
       "0                                                   61.0                                                                                                      \n",
       "1                                                   47.1                                                                                                      \n",
       "2                                                   48.7                                                                                                      \n",
       "3                                                   64.4                                                                                                      \n",
       "4                                                   44.0                                                                                                      \n",
       "...                                                  ...                                                                                                      \n",
       "31668                                               17.6                                                                                                      \n",
       "31669                                               38.2                                                                                                      \n",
       "31670                                               16.7                                                                                                      \n",
       "31671                                               13.7                                                                                                      \n",
       "31672                                                3.4                                                                                                      \n",
       "\n",
       "       DP03_0137PE_Percent!!PERCENTAGE OF FAMILIES AND PEOPLE WHOSE INCOME IN THE PAST 12 MONTHS IS BELOW THE POVERTY LEVEL!!All people!!Unrelated individuals 15 years and over  \n",
       "0                                                   67.6                                                                                                                          \n",
       "1                                                   65.7                                                                                                                          \n",
       "2                                                   64.7                                                                                                                          \n",
       "3                                                   72.1                                                                                                                          \n",
       "4                                                   59.4                                                                                                                          \n",
       "...                                                  ...                                                                                                                          \n",
       "31668                                               24.2                                                                                                                          \n",
       "31669                                               28.8                                                                                                                          \n",
       "31670                                               19.6                                                                                                                          \n",
       "31671                                               26.4                                                                                                                          \n",
       "31672                                               23.0                                                                                                                          \n",
       "\n",
       "[31673 rows x 115 columns]"
      ]
     },
     "execution_count": 118,
     "metadata": {},
     "output_type": "execute_result"
    }
   ],
   "source": [
    "df_1"
   ]
  },
  {
   "cell_type": "code",
   "execution_count": 119,
   "metadata": {},
   "outputs": [
    {
     "name": "stdout",
     "output_type": "stream",
     "text": [
      "[[-0.42128094 -1.67200911 -0.6106922  ...  2.60728702 -0.17239019\n",
      "   3.13971748]\n",
      " [-0.15780615 -1.71585483  1.4769903  ...  2.30050326 -0.06521258\n",
      "   3.63926011]\n",
      " [-0.7467498  -1.79477711 -0.71658914 ...  2.09598075  0.26606366\n",
      "   2.42037608]\n",
      " ...\n",
      " [-0.57626611  0.71319766  1.06853068 ...  0.22606065 -2.02363977\n",
      "   0.05254401]\n",
      " [-0.26629577 -0.31279202  2.38467834 ...  0.37214816 -1.34160045\n",
      "   0.18242509]\n",
      " [ 0.86509598 -0.34786859 -0.30812952 ...  0.25527815 -1.30262678\n",
      "  -0.16725475]]\n"
     ]
    }
   ],
   "source": [
    "from sklearn.decomposition import PCA\n",
    "from sklearn.cluster import KMeans\n",
    "from collections import defaultdict\n",
    "from sklearn.metrics.pairwise import euclidean_distances\n",
    "from sklearn.preprocessing import StandardScaler\n",
    "import pandas as pd\n",
    "\n",
    "class PFA(object):\n",
    "    def __init__(self, n_features, q=None):\n",
    "        self.q = q\n",
    "        self.n_features = n_features\n",
    "\n",
    "    def fit(self, X):\n",
    "        if not self.q:\n",
    "            self.q = X.shape[1]\n",
    "\n",
    "        sc = StandardScaler()\n",
    "        X = sc.fit_transform(X)\n",
    "\n",
    "        pca = PCA(n_components=self.q).fit(X) # calculation Cov matrix is embeded in PCA\n",
    "        A_q = pca.components_.T\n",
    "\n",
    "        kmeans = KMeans(n_clusters=self.n_features).fit(A_q)\n",
    "        clusters = kmeans.predict(A_q)\n",
    "        cluster_centers = kmeans.cluster_centers_\n",
    "\n",
    "        dists = defaultdict(list)\n",
    "        for i, c in enumerate(clusters):\n",
    "            dist = euclidean_distances([A_q[i, :]], [cluster_centers[c, :]])[0][0]\n",
    "            dists[c].append((i, dist))\n",
    "\n",
    "        self.indices_ = [sorted(f, key=lambda x: x[1])[0][0] for f in dists.values()]\n",
    "        self.features_ = X[:, self.indices_]\n",
    "        \n",
    "# Usage\n",
    "pfa = PFA(n_features=15)\n",
    "pfa.fit(df_1)\n",
    "# To get the transformed matrix\n",
    "x = pfa.features_\n",
    "print(x)\n",
    "# To get the column indices of the kept features\n",
    "column_indices = pfa.indices_"
   ]
  },
  {
   "cell_type": "code",
   "execution_count": 120,
   "metadata": {},
   "outputs": [],
   "source": [
    "df_2 = df_1.iloc[:,column_indices]"
   ]
  },
  {
   "cell_type": "code",
   "execution_count": 121,
   "metadata": {},
   "outputs": [
    {
     "data": {
      "text/plain": [
       "Index(['DP03_0024PE_Percent!!COMMUTING TO WORK!!Workers 16 years and over!!Worked from home',\n",
       "       'DP03_0003PE_Percent!!EMPLOYMENT STATUS!!Population 16 years and over!!In labor force!!Civilian labor force',\n",
       "       'DP03_0020PE_Percent!!COMMUTING TO WORK!!Workers 16 years and over!!Car, truck, or van -- carpooled',\n",
       "       'DP03_0036PE_Percent!!INDUSTRY!!Civilian employed population 16 years and over!!Wholesale trade',\n",
       "       'DP03_0022PE_Percent!!COMMUTING TO WORK!!Workers 16 years and over!!Walked',\n",
       "       'DP03_0023PE_Percent!!COMMUTING TO WORK!!Workers 16 years and over!!Other means',\n",
       "       'DP03_0077PE_Percent!!INCOME AND BENEFITS (IN 2019 INFLATION-ADJUSTED DOLLARS)!!Families!!$10,000 to $14,999',\n",
       "       'DP03_0055PE_Percent!!INCOME AND BENEFITS (IN 2019 INFLATION-ADJUSTED DOLLARS)!!Total households!!$25,000 to $34,999',\n",
       "       'DP03_0056PE_Percent!!INCOME AND BENEFITS (IN 2019 INFLATION-ADJUSTED DOLLARS)!!Total households!!$35,000 to $49,999',\n",
       "       'DP03_0060PE_Percent!!INCOME AND BENEFITS (IN 2019 INFLATION-ADJUSTED DOLLARS)!!Total households!!$150,000 to $199,999',\n",
       "       'DP03_0063E_Estimate!!INCOME AND BENEFITS (IN 2019 INFLATION-ADJUSTED DOLLARS)!!Total households!!Mean household income (dollars)',\n",
       "       'DP03_0064PE_Percent!!INCOME AND BENEFITS (IN 2019 INFLATION-ADJUSTED DOLLARS)!!Total households!!With earnings',\n",
       "       'DP03_0098PE_Percent!!HEALTH INSURANCE COVERAGE!!Civilian noninstitutionalized population!!With health insurance coverage!!With public coverage',\n",
       "       'DP03_0105PE_Percent!!HEALTH INSURANCE COVERAGE!!Civilian noninstitutionalized population 19 to 64 years!!In labor force:!!Employed:!!With health insurance coverage',\n",
       "       'DP03_0107PE_Percent!!HEALTH INSURANCE COVERAGE!!Civilian noninstitutionalized population 19 to 64 years!!In labor force:!!Employed:!!With health insurance coverage!!With public coverage'],\n",
       "      dtype='object')"
      ]
     },
     "execution_count": 121,
     "metadata": {},
     "output_type": "execute_result"
    }
   ],
   "source": [
    "df_2.columns"
   ]
  },
  {
   "cell_type": "code",
   "execution_count": 122,
   "metadata": {},
   "outputs": [],
   "source": [
    "sc = StandardScaler()\n",
    "scaled_df = sc.fit_transform(df_2)\n",
    "scaled_df = pd.DataFrame(scaled_df)"
   ]
  },
  {
   "cell_type": "code",
   "execution_count": 81,
   "metadata": {},
   "outputs": [],
   "source": [
    "from sklearn.neighbors import NearestNeighbors\n",
    "from random import sample\n",
    "from numpy.random import uniform\n",
    "import numpy as np\n",
    "from math import isnan\n",
    "\n",
    "# Hopkins Statistic\n",
    "def hopkins(X):\n",
    "    d = X.shape[1]\n",
    "    #d = len(vars) # columns\n",
    "    n = len(X) # rows\n",
    "    m = int(0.1 * n) # heuristic from article [1]\n",
    "    nbrs = NearestNeighbors(n_neighbors=1).fit(X.values)\n",
    " \n",
    "    rand_X = sample(range(0, n, 1), m)\n",
    " \n",
    "    ujd = []\n",
    "    wjd = []\n",
    "    for j in range(0, m):\n",
    "        u_dist, _ = nbrs.kneighbors(uniform(np.amin(X,axis=0),np.amax(X,axis=0),d).reshape(1, -1), 2, return_distance=True)\n",
    "        ujd.append(u_dist[0][1])\n",
    "        w_dist, _ = nbrs.kneighbors(X.iloc[rand_X[j]].values.reshape(1, -1), 2, return_distance=True)\n",
    "        wjd.append(w_dist[0][1])\n",
    " \n",
    "    H = sum(ujd) / (sum(ujd) + sum(wjd))\n",
    "    if isnan(H):\n",
    "        print (ujd, wjd)\n",
    "        H = 0\n",
    " \n",
    "    return H"
   ]
  },
  {
   "cell_type": "code",
   "execution_count": 123,
   "metadata": {},
   "outputs": [
    {
     "data": {
      "text/plain": [
       "0.9527454522907564"
      ]
     },
     "execution_count": 123,
     "metadata": {},
     "output_type": "execute_result"
    }
   ],
   "source": [
    "hopkins(scaled_df)"
   ]
  },
  {
   "cell_type": "markdown",
   "metadata": {},
   "source": [
    "## KMeans Selection (Too much time to get results)"
   ]
  },
  {
   "cell_type": "code",
   "execution_count": null,
   "metadata": {
    "jupyter": {
     "source_hidden": true
    }
   },
   "outputs": [],
   "source": [
    "maxvars = 15\n",
    "kmin=2\n",
    "kmax=8\n",
    "\n",
    "kmeans_kwargs = {'init': 'random', 'n_init': 10, 'max_iter': 300, 'random_state': 0}\n",
    "cols = list(scaled_df.columns)\n",
    "\n",
    "results_for_each_k = []\n",
    "vars_for_each_k = {}"
   ]
  },
  {
   "cell_type": "code",
   "execution_count": null,
   "metadata": {
    "jupyter": {
     "source_hidden": true
    }
   },
   "outputs": [],
   "source": [
    "from sklearn.cluster import KMeans\n",
    "\n",
    "\n",
    "for k in range(kmin, kmax+1):\n",
    "    selected_variables = []\n",
    "    while(len(selected_variables)<maxvars):\n",
    "        results = []\n",
    "        for col in cols:\n",
    "            scols = []\n",
    "            scols.extend(selected_variables)\n",
    "            scols.append(col)\n",
    "            kmeans=KMeans(n_clusters=k, **kmeans_kwargs)\n",
    "            kmeans.fit(scaled_df[scols])\n",
    "            results.append(silhouette_score(scaled_df[scols], kmeans.predict(df[scols])))\n",
    "        selected_var=cols[np.argmax(results)]\n",
    "        selected_variables.append(selected_var)\n",
    "        cols.remove(selected_var)\n",
    "    results_for_each_k.append(max(results))\n",
    "    vars_for_each_k[k]=selected_variables"
   ]
  },
  {
   "cell_type": "code",
   "execution_count": null,
   "metadata": {
    "jupyter": {
     "source_hidden": true
    }
   },
   "outputs": [],
   "source": [
    "best_k=np.argmax(results_for_each_k)+kmin\n",
    "print(best_k)"
   ]
  },
  {
   "cell_type": "code",
   "execution_count": null,
   "metadata": {
    "jupyter": {
     "source_hidden": true
    }
   },
   "outputs": [],
   "source": [
    "selected_variables=vars_for_each_k[best_k]\n",
    "kmeans = KMeans(n_clusters=best_k, **kmeans_kwargs)\n",
    "kmeans.fit(scaled_df[selected_variables])\n",
    "clusters=kmeans.predict(scaled_df[selected_variables])"
   ]
  },
  {
   "cell_type": "code",
   "execution_count": null,
   "metadata": {
    "jupyter": {
     "source_hidden": true
    }
   },
   "outputs": [],
   "source": [
    "%matplotlib inline\n",
    "\n",
    "fig = plt.figure(figsize=(15,15))\n",
    "#plt.rcParams['font.size'] = 22\n",
    "ax = plt.axes(projection=\"3d\")\n",
    "z_points = scaled_df[selected_variables[0]]\n",
    "x_points = scaled_df[selected_variables[1]]\n",
    "y_points = scaled_df[selected_variables[2]]\n",
    "f1=ax.scatter3D(x_points, y_points, z_points, c=clusters,cmap='Accent',s=300);\n",
    "\n",
    "ax.set_xlabel(selected_variables[0],fontsize = 20)\n",
    "ax.set_ylabel(selected_variables[1],fontsize = 20)\n",
    "ax.set_zlabel(selected_variables[2],fontsize = 20)\n",
    "ax.legend(clusters)\n",
    "\n",
    "plt.title('KMeans used on the Europe Datasets',fontsize = 24)\n",
    "plt.show()"
   ]
  },
  {
   "cell_type": "markdown",
   "metadata": {},
   "source": [
    "## Imported File"
   ]
  },
  {
   "cell_type": "code",
   "execution_count": null,
   "metadata": {},
   "outputs": [],
   "source": [
    "from fs_ono2020 import FeatureSelector"
   ]
  },
  {
   "cell_type": "code",
   "execution_count": null,
   "metadata": {},
   "outputs": [],
   "source": [
    "# Feature selection from Github. (Get results in a short time)\n",
    "selector = FeatureSelector(n_features=15, random_state=0, logging=True)\n",
    "df_selected = selector.fit_transform(scaled_df.to_numpy())\n",
    "\n",
    "print(selector.selected)"
   ]
  },
  {
   "cell_type": "code",
   "execution_count": null,
   "metadata": {},
   "outputs": [],
   "source": [
    "scaled_df.columns[selector.selected]"
   ]
  },
  {
   "cell_type": "code",
   "execution_count": null,
   "metadata": {},
   "outputs": [],
   "source": [
    "df_selected = pd.DataFrame(df_selected)\n",
    "df_selected.columns = scaled_df.columns[selector.selected]"
   ]
  },
  {
   "cell_type": "code",
   "execution_count": null,
   "metadata": {},
   "outputs": [],
   "source": [
    "df_selected"
   ]
  },
  {
   "cell_type": "code",
   "execution_count": null,
   "metadata": {},
   "outputs": [],
   "source": [
    "# A 0.92 hopkins statistics means the data is highly clustered.\n",
    "hopkins(df_selected)"
   ]
  },
  {
   "cell_type": "code",
   "execution_count": null,
   "metadata": {},
   "outputs": [],
   "source": [
    "# pip install yellowbrick"
   ]
  },
  {
   "cell_type": "code",
   "execution_count": null,
   "metadata": {},
   "outputs": [],
   "source": [
    "import yellowbrick\n",
    "from yellowbrick.cluster import KElbowVisualizer\n",
    "from sklearn.cluster import KMeans\n",
    "\n",
    "elbow_m = KElbowVisualizer(KMeans(), k=10)\n",
    "elbow_m.fit(df_selected)\n",
    "elbow_m.show()"
   ]
  },
  {
   "cell_type": "code",
   "execution_count": null,
   "metadata": {},
   "outputs": [],
   "source": [
    "from mpl_toolkits.mplot3d import Axes3D\n",
    "from sklearn.cluster import AgglomerativeClustering\n",
    "\n",
    "km = KMeans(n_clusters = 5, init = 'k-means++', max_iter = 300, n_init = 10, random_state = 0)\n",
    "yhat_km = km.fit_predict(df_selected)\n",
    "\n",
    "ac = AgglomerativeClustering(n_clusters=5)\n",
    "yhat_ac = ac.fit_predict(df_selected)\n",
    "\n",
    "df_selected['KMeans'] = yhat_km\n",
    "df_selected[\"Agglomerative\"]= yhat_ac\n",
    "df_selected['GEO_ID_id'] = df['GEO_ID_id']"
   ]
  },
  {
   "cell_type": "code",
   "execution_count": null,
   "metadata": {},
   "outputs": [],
   "source": [
    "from sklearn import metrics\n",
    "from sklearn.metrics import pairwise_distances\n",
    "\n",
    "# Silhouette score is close to 0, which means clusters are overlapping\n",
    "km_eval = KMeans(n_clusters = 5, init = 'k-means++', \n",
    "                      max_iter = 200, n_init = 10, random_state=0).fit(df_selected)\n",
    "km_label = km_eval.labels_\n",
    "metrics.silhouette_score(df_selected, km_label, metric='euclidean')"
   ]
  },
  {
   "cell_type": "code",
   "execution_count": null,
   "metadata": {},
   "outputs": [],
   "source": [
    "pal = [\"#682F2F\",\"#B9C0C9\", \"#9F8A78\",\"#F3AB60\", \"#9F8A78\"]\n",
    "pl = sns.countplot(x=df_selected[\"KMeans\"], palette= pal)\n",
    "pl.set_title(\"Distribution Of The Clusters\")\n",
    "plt.show()"
   ]
  },
  {
   "cell_type": "code",
   "execution_count": null,
   "metadata": {},
   "outputs": [],
   "source": [
    "pl = sns.countplot(x=df_selected[\"Agglomerative\"], palette= pal)\n",
    "pl.set_title(\"Distribution Of The Clusters\")\n",
    "plt.show()"
   ]
  },
  {
   "cell_type": "code",
   "execution_count": null,
   "metadata": {},
   "outputs": [],
   "source": [
    "from matplotlib import colors\n",
    "cmap = colors.ListedColormap([\"#682F2F\", \"#9E726F\", \"#D6B2B1\", \"#B9C0C9\", \"#9F8A78\"])\n",
    "\n",
    "x = df_selected.iloc[:,0]\n",
    "y = df_selected.iloc[:,1]\n",
    "z = df_selected.iloc[:,2]\n",
    "\n",
    "fig = plt.figure(figsize=(10,8))\n",
    "ax = plt.subplot(111, projection='3d', label=\"bla\")\n",
    "ax.scatter(x, y, z, s=40, c=df_selected[\"KMeans\"], marker='o', cmap='Spectral')\n",
    "ax.set_title(\"The Plot Of The Clusters\")\n",
    "plt.show()"
   ]
  },
  {
   "cell_type": "code",
   "execution_count": null,
   "metadata": {},
   "outputs": [],
   "source": [
    "fig = plt.figure(figsize=(10,8))\n",
    "ax = plt.subplot(111, projection='3d', label=\"bla\")\n",
    "ax.scatter(x, y, z, s=40, c=df_selected[\"Agglomerative\"], marker='o', cmap='Spectral')\n",
    "ax.set_title(\"The Plot Of The Clusters\")\n",
    "plt.show()"
   ]
  },
  {
   "cell_type": "markdown",
   "metadata": {},
   "source": [
    "## Clustering"
   ]
  },
  {
   "cell_type": "code",
   "execution_count": 124,
   "metadata": {},
   "outputs": [
    {
     "data": {
      "image/png": "[encoded data removed]",
      "text/plain": [
       "<Figure size 576x396 with 2 Axes>"
      ]
     },
     "metadata": {},
     "output_type": "display_data"
    },
    {
     "data": {
      "text/plain": [
       "<AxesSubplot:title={'center':'Distortion Score Elbow for KMeans Clustering'}, xlabel='k', ylabel='distortion score'>"
      ]
     },
     "execution_count": 124,
     "metadata": {},
     "output_type": "execute_result"
    }
   ],
   "source": [
    "import yellowbrick\n",
    "from yellowbrick.cluster import KElbowVisualizer\n",
    "from sklearn.cluster import KMeans\n",
    "\n",
    "elbow_m = KElbowVisualizer(KMeans(), k=10)\n",
    "elbow_m.fit(scaled_df)\n",
    "elbow_m.show()"
   ]
  },
  {
   "cell_type": "code",
   "execution_count": 182,
   "metadata": {
    "collapsed": true,
    "jupyter": {
     "outputs_hidden": true
    }
   },
   "outputs": [
    {
     "name": "stderr",
     "output_type": "stream",
     "text": [
      "C:\\Users\\15321\\anaconda3\\lib\\site-packages\\ipykernel_launcher.py:7: SettingWithCopyWarning: \n",
      "A value is trying to be set on a copy of a slice from a DataFrame.\n",
      "Try using .loc[row_indexer,col_indexer] = value instead\n",
      "\n",
      "See the caveats in the documentation: https://pandas.pydata.org/pandas-docs/stable/user_guide/indexing.html#returning-a-view-versus-a-copy\n",
      "  import sys\n",
      "C:\\Users\\15321\\anaconda3\\lib\\site-packages\\ipykernel_launcher.py:8: SettingWithCopyWarning: \n",
      "A value is trying to be set on a copy of a slice from a DataFrame.\n",
      "Try using .loc[row_indexer,col_indexer] = value instead\n",
      "\n",
      "See the caveats in the documentation: https://pandas.pydata.org/pandas-docs/stable/user_guide/indexing.html#returning-a-view-versus-a-copy\n",
      "  \n"
     ]
    }
   ],
   "source": [
    "from mpl_toolkits.mplot3d import Axes3D\n",
    "from sklearn.cluster import AgglomerativeClustering\n",
    "\n",
    "km = KMeans(n_clusters = 5, init = 'k-means++', max_iter = 300, n_init = 10, random_state = 0)\n",
    "yhat_km = km.fit_predict(scaled_df)\n",
    "\n",
    "df_2['KMeans'] = yhat_km\n",
    "df_2['ZIP'] = df['GEO_ID_id'].str[-5:]"
   ]
  },
  {
   "cell_type": "code",
   "execution_count": 185,
   "metadata": {},
   "outputs": [
    {
     "data": {
      "text/plain": [
       "Index(['DP03_0024PE_Percent!!COMMUTING TO WORK!!Workers 16 years and over!!Worked from home',\n",
       "       'DP03_0003PE_Percent!!EMPLOYMENT STATUS!!Population 16 years and over!!In labor force!!Civilian labor force',\n",
       "       'DP03_0020PE_Percent!!COMMUTING TO WORK!!Workers 16 years and over!!Car, truck, or van -- carpooled',\n",
       "       'DP03_0036PE_Percent!!INDUSTRY!!Civilian employed population 16 years and over!!Wholesale trade',\n",
       "       'DP03_0022PE_Percent!!COMMUTING TO WORK!!Workers 16 years and over!!Walked',\n",
       "       'DP03_0023PE_Percent!!COMMUTING TO WORK!!Workers 16 years and over!!Other means',\n",
       "       'DP03_0077PE_Percent!!INCOME AND BENEFITS (IN 2019 INFLATION-ADJUSTED DOLLARS)!!Families!!$10,000 to $14,999',\n",
       "       'DP03_0055PE_Percent!!INCOME AND BENEFITS (IN 2019 INFLATION-ADJUSTED DOLLARS)!!Total households!!$25,000 to $34,999',\n",
       "       'DP03_0056PE_Percent!!INCOME AND BENEFITS (IN 2019 INFLATION-ADJUSTED DOLLARS)!!Total households!!$35,000 to $49,999',\n",
       "       'DP03_0060PE_Percent!!INCOME AND BENEFITS (IN 2019 INFLATION-ADJUSTED DOLLARS)!!Total households!!$150,000 to $199,999',\n",
       "       'DP03_0063E_Estimate!!INCOME AND BENEFITS (IN 2019 INFLATION-ADJUSTED DOLLARS)!!Total households!!Mean household income (dollars)',\n",
       "       'DP03_0064PE_Percent!!INCOME AND BENEFITS (IN 2019 INFLATION-ADJUSTED DOLLARS)!!Total households!!With earnings',\n",
       "       'DP03_0098PE_Percent!!HEALTH INSURANCE COVERAGE!!Civilian noninstitutionalized population!!With health insurance coverage!!With public coverage',\n",
       "       'DP03_0105PE_Percent!!HEALTH INSURANCE COVERAGE!!Civilian noninstitutionalized population 19 to 64 years!!In labor force:!!Employed:!!With health insurance coverage',\n",
       "       'DP03_0107PE_Percent!!HEALTH INSURANCE COVERAGE!!Civilian noninstitutionalized population 19 to 64 years!!In labor force:!!Employed:!!With health insurance coverage!!With public coverage',\n",
       "       'CMeans', 'KMeans', 'ZIP'],\n",
       "      dtype='object')"
      ]
     },
     "execution_count": 185,
     "metadata": {},
     "output_type": "execute_result"
    }
   ],
   "source": [
    "df_2.columns"
   ]
  },
  {
   "cell_type": "code",
   "execution_count": 189,
   "metadata": {},
   "outputs": [],
   "source": [
    "df_2.to_csv(\"Clustered.csv\",index = False)"
   ]
  },
  {
   "cell_type": "markdown",
   "metadata": {},
   "source": [
    "## Marketing Names"
   ]
  },
  {
   "cell_type": "code",
   "execution_count": null,
   "metadata": {},
   "outputs": [],
   "source": [
    "# Cluster 0: Upper Class\n",
    "# Cluster 1: Lower Class\n",
    "# Cluster 2: City Middle Class\n",
    "# Cluster 3: Walk-to-work Middle Class\n",
    "# Cluster 4: Suburban Middle Class"
   ]
  },
  {
   "cell_type": "code",
   "execution_count": 193,
   "metadata": {},
   "outputs": [
    {
     "data": {
      "image/png": "[encoded data removed]",
      "text/plain": [
       "<Figure size 576x396 with 1 Axes>"
      ]
     },
     "metadata": {},
     "output_type": "display_data"
    }
   ],
   "source": [
    "from sklearn import metrics\n",
    "from sklearn.metrics import pairwise_distances\n",
    "\n",
    "km_eval = KMeans(n_clusters = 100, init = 'k-means++', \n",
    "                      max_iter = 300, n_init = 10, random_state=0).fit(scaled_df)\n",
    "km_label = km_eval.labels_\n",
    "metrics.silhouette_score(scaled_df, km_label, metric='euclidean')\n",
    "\n",
    "plt.hist(km_label)\n",
    "plt.show()"
   ]
  },
  {
   "cell_type": "markdown",
   "metadata": {},
   "source": [
    "## K Means"
   ]
  },
  {
   "cell_type": "code",
   "execution_count": null,
   "metadata": {},
   "outputs": [],
   "source": [
    "pal = [\"#682F2F\",\"#B9C0C9\", \"#9F8A78\",\"#F3AB60\", \"#9F8A78\"]\n",
    "pl = sns.countplot(x=df_1[\"KMeans\"], palette= pal)\n",
    "pl.set_title(\"Distribution Of The Clusters\")\n",
    "plt.show()"
   ]
  },
  {
   "cell_type": "code",
   "execution_count": null,
   "metadata": {},
   "outputs": [],
   "source": [
    "from matplotlib import colors\n",
    "cmap = colors.ListedColormap([\"#682F2F\", \"#9E726F\", \"#D6B2B1\", \"#B9C0C9\", \"#9F8A78\"])\n",
    "\n",
    "x = df_2.iloc[:,6]\n",
    "y = df_2.iloc[:,8]\n",
    "z = df_2.iloc[:,10]\n",
    "\n",
    "fig = plt.figure(figsize=(10,8))\n",
    "ax = plt.subplot(111, projection='3d', label=\"bla\")\n",
    "ax.scatter(x, y, z, s=40, c=df_1[\"KMeans\"], marker='o', cmap='Spectral')\n",
    "ax.set_title(\"The Plot Of The Clusters\")\n",
    "plt.show()"
   ]
  },
  {
   "cell_type": "markdown",
   "metadata": {},
   "source": [
    "## Agglomerative"
   ]
  },
  {
   "cell_type": "code",
   "execution_count": null,
   "metadata": {},
   "outputs": [],
   "source": [
    "pl = sns.countplot(x=df_1[\"Agglomerative\"], palette= pal)\n",
    "pl.set_title(\"Distribution Of The Clusters\")\n",
    "plt.show()"
   ]
  },
  {
   "cell_type": "code",
   "execution_count": null,
   "metadata": {},
   "outputs": [],
   "source": [
    "fig = plt.figure(figsize=(10,8))\n",
    "ax = plt.subplot(111, projection='3d', label=\"bla\")\n",
    "ax.scatter(x, y, z, s=40, c=df_1[\"Agglomerative\"], marker='o', cmap='Spectral')\n",
    "ax.set_title(\"The Plot Of The Clusters\")\n",
    "plt.show()"
   ]
  }
 ],
 "metadata": {
  "kernelspec": {
   "display_name": "Python 3",
   "language": "python",
   "name": "python3"
  },
  "language_info": {
   "codemirror_mode": {
    "name": "ipython",
    "version": 3
   },
   "file_extension": ".py",
   "mimetype": "text/x-python",
   "name": "python",
   "nbconvert_exporter": "python",
   "pygments_lexer": "ipython3",
   "version": "3.7.10"
  }
 },
 "nbformat": 4,
 "nbformat_minor": 4
}
